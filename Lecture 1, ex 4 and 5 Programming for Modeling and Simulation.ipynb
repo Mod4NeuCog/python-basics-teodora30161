{
 "cells": [
  {
   "cell_type": "code",
   "execution_count": 3,
   "id": "0f908b76",
   "metadata": {},
   "outputs": [
    {
     "name": "stdout",
     "output_type": "stream",
     "text": [
      "Enter a spike value: -77\n",
      "Output: 0\n",
      "New Membrane Potential: -77.0\n"
     ]
    }
   ],
   "source": [
    "#Exercise4\n",
    "def compute_membrane_potential(spike_value, current_membrane_potential=0.0):\n",
    "    new_membrane_potential = current_membrane_potential + spike_value\n",
    "    if new_membrane_potential >= -65:\n",
    "        return 5, new_membrane_potential\n",
    "    else:\n",
    "        return 0, new_membrane_potential\n",
    "spike_value = float(input(\"Enter a spike value: \"))\n",
    "output, new_potential = compute_membrane_potential(spike_value)\n",
    "\n",
    "print(\"Output:\", output)\n",
    "print(\"New Membrane Potential:\", new_potential)"
   ]
  },
  {
   "cell_type": "code",
   "execution_count": 4,
   "id": "9c15ef50",
   "metadata": {},
   "outputs": [
    {
     "name": "stdout",
     "output_type": "stream",
     "text": [
      "Enter a spike value: 67\n",
      "Enter the weight parameter: 5\n",
      "Output: 5\n",
      "New Membrane Potential: 335.0\n"
     ]
    }
   ],
   "source": [
    "#Exercise5\n",
    "def compute_membrane_potential(spike_value, weight, current_membrane_potential=0.0):\n",
    "  \n",
    "    new_membrane_potential = current_membrane_potential + (spike_value * weight)\n",
    "\n",
    "    # Check if the membrane potential reaches -65mV\n",
    "    if new_membrane_potential >= -65:\n",
    "        return 5, new_membrane_potential\n",
    "    else:\n",
    "        return 0, new_membrane_potential\n",
    "\n",
    "\n",
    "# input a spike value \n",
    "spike_value = float(input(\"Enter a spike value: \"))\n",
    "\n",
    "#input the weight parameter\n",
    "weight = float(input(\"Enter the weight parameter: \"))\n",
    "\n",
    "# Compute the new membrane potential\n",
    "output, new_potential = compute_membrane_potential(spike_value, weight)\n",
    "\n",
    "print(\"Output:\", output)\n",
    "print(\"New Membrane Potential:\", new_potential)"
   ]
  },
  {
   "cell_type": "code",
   "execution_count": null,
   "id": "36b1a1bd",
   "metadata": {},
   "outputs": [],
   "source": []
  }
 ],
 "metadata": {
  "kernelspec": {
   "display_name": "Python 3 (ipykernel)",
   "language": "python",
   "name": "python3"
  },
  "language_info": {
   "codemirror_mode": {
    "name": "ipython",
    "version": 3
   },
   "file_extension": ".py",
   "mimetype": "text/x-python",
   "name": "python",
   "nbconvert_exporter": "python",
   "pygments_lexer": "ipython3",
   "version": "3.9.12"
  }
 },
 "nbformat": 4,
 "nbformat_minor": 5
}
