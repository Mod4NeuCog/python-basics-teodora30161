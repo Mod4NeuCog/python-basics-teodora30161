{
 "cells": [
  {
   "cell_type": "markdown",
   "id": "342450db",
   "metadata": {},
   "source": [
    "Exercise 1\n",
    "Input: Entering a spike value\n",
    "Spike value should be an int\n",
    "\n",
    "Output: computing a membrane potential based on a given spike value that the user enters\n",
    "\n",
    "Function: Simulate():\n",
    "|_ Simulate is calling the other two functions two functions compute_membrane_potential and new_membrane_potential2\n",
    "\n",
    "Function: compute_membrane_potential():\n",
    "|_ Depending on the value enterd the program prints 5 if the new membrane potental reaches the threshold and the program prints 0 if it is not\n",
    "\n",
    "Function: new_membrane_potential2\n",
    "\n",
    "Main():\n",
    " calling the Simulate() function\n",
    " if main\n"
   ]
  },
  {
   "cell_type": "markdown",
   "id": "ae58ce5a",
   "metadata": {},
   "source": [
    "Exercise 2 algorithm as a DTSS model\n",
    "Input: spike value\n",
    "Output: membrane potential \n",
    "    \n",
    "Function: Main() \n",
    "Simulate()\n",
    "\n",
    "Function: lambda = new_membrane_potential (generating the output)\n",
    "\n",
    "Function: delta(spike_value, current_membrane_potential)\n",
    "Declare: membrane\n",
    "Start: calculate \n",
    "End: print result\n",
    "\n",
    "Function: DTSS()\n",
    "Declarations: floate value: spike_value, new_membrane_potential\n",
    "Start:\n",
    " calculate new membrane potential based on the spike the user enters\n",
    " lambda()\n",
    " delta()\n",
    " End:"
   ]
  },
  {
   "cell_type": "markdown",
   "id": "9467640d",
   "metadata": {},
   "source": [
    "Exercise 2 the while loop exercise for a DTSS model\n",
    "Input: spike value\n",
    "Output: membrane potential \n",
    "    \n",
    "Function: Main() \n",
    "Simulate()\n",
    "\n",
    "Function: lambda = new_membrane_potential (generating the output)\n",
    "\n",
    "Function: delta(spike_value, current_membrane_potential)\n",
    "Declare: membrane\n",
    "Start: calculate \n",
    "End: print result\n",
    "\n",
    "Function: DTSS()\n",
    "Declarations: floate value: spike_value, new_membrane_potential\n",
    "Start:\n",
    " calculate new membrane potential based on the spike the user enters\n",
    " lambda()\n",
    " delta()\n",
    " End:"
   ]
  }
 ],
 "metadata": {
  "kernelspec": {
   "display_name": "Python 3 (ipykernel)",
   "language": "python",
   "name": "python3"
  },
  "language_info": {
   "codemirror_mode": {
    "name": "ipython",
    "version": 3
   },
   "file_extension": ".py",
   "mimetype": "text/x-python",
   "name": "python",
   "nbconvert_exporter": "python",
   "pygments_lexer": "ipython3",
   "version": "3.9.12"
  }
 },
 "nbformat": 4,
 "nbformat_minor": 5
}
